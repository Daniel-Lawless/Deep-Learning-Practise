{
 "cells": [
  {
   "cell_type": "code",
   "id": "initial_id",
   "metadata": {
    "collapsed": true,
    "ExecuteTime": {
     "end_time": "2025-09-17T14:53:41.776418Z",
     "start_time": "2025-09-17T14:53:41.773247Z"
    }
   },
   "source": [
    "import numpy as np\n",
    "from tensorflow import keras\n",
    "from keras.models import Sequential\n",
    "from keras.layers import Dense, Input, Conv2D, MaxPooling2D, Flatten\n",
    "from keras.utils import to_categorical  # Used for converting the target values into a one-hot-encoding format.\n",
    "from keras.datasets import mnist # This data is already divided into a train and test set\n",
    "import matplotlib.pyplot as plt"
   ],
   "outputs": [],
   "execution_count": 19
  },
  {
   "metadata": {
    "ExecuteTime": {
     "end_time": "2025-09-17T14:53:41.966934Z",
     "start_time": "2025-09-17T14:53:41.781882Z"
    }
   },
   "cell_type": "code",
   "source": [
    "(X_train, y_train), (X_test, y_test) = mnist.load_data()\n",
    "X_train.shape\n",
    "# We have 60000 images, each of size 28 x 28. The reason it does not have dimension (60000, 28, 28, 3) is because the images\n",
    "# are grayscale, meaning that instead of having a red, green, blue value per pixel, each pixel has one value between 0 and 255 that represents\n",
    "# the pixels intensity, 0 being black, and 255 being white."
   ],
   "id": "fee356e5c575a7e3",
   "outputs": [
    {
     "data": {
      "text/plain": [
       "(60000, 28, 28)"
      ]
     },
     "execution_count": 20,
     "metadata": {},
     "output_type": "execute_result"
    }
   ],
   "execution_count": 20
  },
  {
   "metadata": {
    "ExecuteTime": {
     "end_time": "2025-09-17T14:53:42.072931Z",
     "start_time": "2025-09-17T14:53:41.978718Z"
    }
   },
   "cell_type": "code",
   "source": [
    "# Let's look at an example of an image\n",
    "plt.imshow(X_train[0])"
   ],
   "id": "ad385363eeb21437",
   "outputs": [
    {
     "data": {
      "text/plain": [
       "<matplotlib.image.AxesImage at 0x28c4a4ded50>"
      ]
     },
     "execution_count": 21,
     "metadata": {},
     "output_type": "execute_result"
    },
    {
     "data": {
      "text/plain": [
       "<Figure size 640x480 with 1 Axes>"
      ],
      "image/png": "[encoded data removed]"
     },
     "metadata": {},
     "output_type": "display_data"
    }
   ],
   "execution_count": 21
  },
  {
   "metadata": {
    "ExecuteTime": {
     "end_time": "2025-09-17T14:53:42.146820Z",
     "start_time": "2025-09-17T14:53:42.082417Z"
    }
   },
   "cell_type": "code",
   "source": [
    "# For conventional NNs, we cannot input the image as is, so we have to each image into 1 dimensional vectors\n",
    "X_train_flatten = X_train.reshape(X_train.shape[0], -1).astype('float32')\n",
    "X_test_flatten = X_test.reshape(X_test.shape[0], -1).astype('float32')\n",
    "\n",
    "X_train_flatten.shape\n",
    "# Each of these values represent the pixel intensity in this one image.\n",
    "# Each row represents an image."
   ],
   "id": "9d34a9a693d60516",
   "outputs": [
    {
     "data": {
      "text/plain": [
       "(60000, 784)"
      ]
     },
     "execution_count": 22,
     "metadata": {},
     "output_type": "execute_result"
    }
   ],
   "execution_count": 22
  },
  {
   "metadata": {
    "ExecuteTime": {
     "end_time": "2025-09-17T14:53:42.185226Z",
     "start_time": "2025-09-17T14:53:42.157351Z"
    }
   },
   "cell_type": "code",
   "source": [
    "# normalize data. (Since pixel intensity is between 0 and 255, dividing by 255 will rescale the pixel values to between 0 and 1)\n",
    "X_train_flatten /= 255\n",
    "X_test_flatten /= 255\n",
    "\n",
    "# We also need to divide our y_train and y_test into categories.\n",
    "num_classes = len(np.unique(y_train))\n",
    "y_train_cat = to_categorical(y_train, num_classes=num_classes)\n",
    "y_test_cat = to_categorical(y_test, num_classes=num_classes)\n",
    "\n",
    "y_train_cat.shape # We can see now each target has 10 values, it will have a value of 1 in the class that datapoint takes, and 0 else where."
   ],
   "id": "7ed31652be5ee009",
   "outputs": [
    {
     "data": {
      "text/plain": [
       "(60000, 10)"
      ]
     },
     "execution_count": 23,
     "metadata": {},
     "output_type": "execute_result"
    }
   ],
   "execution_count": 23
  },
  {
   "metadata": {
    "ExecuteTime": {
     "end_time": "2025-09-17T14:53:42.198824Z",
     "start_time": "2025-09-17T14:53:42.195001Z"
    }
   },
   "cell_type": "code",
   "source": [
    "n_cols = X_train_flatten.shape[1]\n",
    "\n",
    "# Define model architecture\n",
    "def conventional_NN_model():\n",
    "    # Define model and input layer\n",
    "    model = Sequential()\n",
    "    model.add(Input(shape=(n_cols,)))\n",
    "\n",
    "    # Define hidden layers\n",
    "    model.add(Dense((24*24), activation='relu'))\n",
    "    model.add(Dense(100, activation='relu'))\n",
    "\n",
    "    # Define output layer\n",
    "    model.add(Dense(num_classes, activation='softmax'))\n",
    "\n",
    "    # Define optimization, loss, and evaluation metric\n",
    "    model.compile(optimizer='adam', loss='categorical_crossentropy', metrics=['accuracy'])\n",
    "    return model"
   ],
   "id": "381e14befae97f2a",
   "outputs": [],
   "execution_count": 24
  },
  {
   "metadata": {
    "ExecuteTime": {
     "end_time": "2025-09-17T14:54:39.424867Z",
     "start_time": "2025-09-17T14:53:42.205503Z"
    }
   },
   "cell_type": "code",
   "source": [
    "# Build model\n",
    "conventional_NN_model = conventional_NN_model()\n",
    "\n",
    "# Train model\n",
    "conventional_NN_model.fit(X_train_flatten, y_train_cat, epochs=10, validation_split=0.1, verbose=2)"
   ],
   "id": "39245263f9923cf2",
   "outputs": [
    {
     "name": "stdout",
     "output_type": "stream",
     "text": [
      "Epoch 1/10\n",
      "1688/1688 - 6s - 4ms/step - accuracy: 0.9403 - loss: 0.1983 - val_accuracy: 0.9695 - val_loss: 0.1082\n",
      "Epoch 2/10\n",
      "1688/1688 - 6s - 3ms/step - accuracy: 0.9742 - loss: 0.0831 - val_accuracy: 0.9758 - val_loss: 0.0803\n",
      "Epoch 3/10\n",
      "1688/1688 - 6s - 3ms/step - accuracy: 0.9822 - loss: 0.0555 - val_accuracy: 0.9788 - val_loss: 0.0732\n",
      "Epoch 4/10\n",
      "1688/1688 - 6s - 3ms/step - accuracy: 0.9871 - loss: 0.0401 - val_accuracy: 0.9785 - val_loss: 0.0748\n",
      "Epoch 5/10\n",
      "1688/1688 - 6s - 3ms/step - accuracy: 0.9901 - loss: 0.0311 - val_accuracy: 0.9793 - val_loss: 0.0752\n",
      "Epoch 6/10\n",
      "1688/1688 - 6s - 3ms/step - accuracy: 0.9911 - loss: 0.0272 - val_accuracy: 0.9803 - val_loss: 0.0870\n",
      "Epoch 7/10\n",
      "1688/1688 - 6s - 3ms/step - accuracy: 0.9921 - loss: 0.0242 - val_accuracy: 0.9792 - val_loss: 0.0825\n",
      "Epoch 8/10\n",
      "1688/1688 - 6s - 3ms/step - accuracy: 0.9942 - loss: 0.0178 - val_accuracy: 0.9797 - val_loss: 0.0937\n",
      "Epoch 9/10\n",
      "1688/1688 - 6s - 3ms/step - accuracy: 0.9938 - loss: 0.0189 - val_accuracy: 0.9828 - val_loss: 0.0788\n",
      "Epoch 10/10\n",
      "1688/1688 - 6s - 3ms/step - accuracy: 0.9951 - loss: 0.0143 - val_accuracy: 0.9807 - val_loss: 0.0921\n"
     ]
    },
    {
     "data": {
      "text/plain": [
       "<keras.src.callbacks.history.History at 0x28c5c7f4d60>"
      ]
     },
     "execution_count": 25,
     "metadata": {},
     "output_type": "execute_result"
    }
   ],
   "execution_count": 25
  },
  {
   "metadata": {
    "ExecuteTime": {
     "end_time": "2025-09-17T14:54:39.993272Z",
     "start_time": "2025-09-17T14:54:39.496118Z"
    }
   },
   "cell_type": "code",
   "source": [
    "# Scores return the loss first, then whatever you specified in the metrics parameter in the model.compile() function\n",
    "# in the order you specified it. We only included accuracy, so our scores output will be an array of the loss and accuracy.\n",
    "scores = conventional_NN_model.evaluate(X_test_flatten, y_test_cat, verbose=0)\n",
    "print(f\"loss: {scores[0]}, accuracy: {100 * scores[1]:.2f}%\")"
   ],
   "id": "1a407b6c88a5192e",
   "outputs": [
    {
     "name": "stdout",
     "output_type": "stream",
     "text": [
      "loss: 0.10595040023326874, accuracy: 97.89%\n"
     ]
    }
   ],
   "execution_count": 26
  },
  {
   "metadata": {
    "ExecuteTime": {
     "end_time": "2025-09-17T14:54:40.118674Z",
     "start_time": "2025-09-17T14:54:39.998267Z"
    }
   },
   "cell_type": "code",
   "source": [
    "# Let's see how a CNN will perform.\n",
    "\n",
    "# Reshape images to be a shape a CNN expects.\n",
    "X_train = X_train.reshape(X_train.shape[0], 28, 28, 1).astype(\"float32\") # Convert to float for normalizing later and 32 bits for deeplearning framework efficiency.\n",
    "X_test = X_test.reshape(X_test.shape[0], 28, 28, 1).astype(\"float32\")\n",
    "\n",
    "# Normalize data\n",
    "X_train_norm = X_train / 255\n",
    "X_test_norm = X_test / 255\n",
    "\n",
    "print(f\"Shape of X_train: {X_train.shape}, Shape of X_test: {X_test.shape}\")"
   ],
   "id": "6db6e0d7d78aac5b",
   "outputs": [
    {
     "name": "stdout",
     "output_type": "stream",
     "text": [
      "Shape of X_train: (60000, 28, 28, 1), Shape of X_test: (10000, 28, 28, 1)\n"
     ]
    }
   ],
   "execution_count": 27
  },
  {
   "metadata": {
    "ExecuteTime": {
     "end_time": "2025-09-17T14:54:40.128746Z",
     "start_time": "2025-09-17T14:54:40.123516Z"
    }
   },
   "cell_type": "code",
   "source": [
    "# Extract input shape\n",
    "input_shape = X_train[0].shape\n",
    "\n",
    "# Extract number of classes.\n",
    "num_classes = y_train_cat.shape[1]\n",
    "\n",
    "# Define CNN architecture\n",
    "def CNN(input_shape):\n",
    "    # Define model and input layer.\n",
    "    model = Sequential()\n",
    "    model.add(Input(shape=input_shape))\n",
    "\n",
    "    # Define the convolutional and pooling layers.\n",
    "    model.add(Conv2D(16, kernel_size=(5,5), strides=(1,1), activation='relu'))\n",
    "    model.add(MaxPooling2D(pool_size=(2,2), strides=(2,2)))\n",
    "\n",
    "    # Flatten the dimensions from the pooling layer into dimensions\n",
    "    # the conventional dense layer can understand e.g., (min_batch_size, num_features)\n",
    "    model.add(Flatten())\n",
    "\n",
    "    # Define the conventional portion of the CNN\n",
    "    model.add(Dense(100, activation='relu'))\n",
    "    model.add(Dense(num_classes, activation='softmax'))\n",
    "\n",
    "    # define the loss function to optimize, the optimizer to achieve the optimization, and the evaluation metric.\n",
    "    model.compile(optimizer=\"adam\", loss=\"categorical_crossentropy\", metrics=[\"accuracy\"])\n",
    "\n",
    "    return model"
   ],
   "id": "3c855dddb5d3001a",
   "outputs": [],
   "execution_count": 28
  },
  {
   "metadata": {
    "ExecuteTime": {
     "end_time": "2025-09-17T14:55:37.178710Z",
     "start_time": "2025-09-17T14:54:40.137940Z"
    }
   },
   "cell_type": "code",
   "source": [
    "# Build model\n",
    "CNN_model = CNN(input_shape)\n",
    "\n",
    "# Train model\n",
    "CNN_model.fit(X_train_norm, y_train_cat, batch_size=32, epochs=10, verbose=2)"
   ],
   "id": "c17f42d21801d018",
   "outputs": [
    {
     "name": "stdout",
     "output_type": "stream",
     "text": [
      "Epoch 1/10\n",
      "1875/1875 - 6s - 3ms/step - accuracy: 0.9520 - loss: 0.1581\n",
      "Epoch 2/10\n",
      "1875/1875 - 6s - 3ms/step - accuracy: 0.9831 - loss: 0.0542\n",
      "Epoch 3/10\n",
      "1875/1875 - 6s - 3ms/step - accuracy: 0.9888 - loss: 0.0356\n",
      "Epoch 4/10\n",
      "1875/1875 - 6s - 3ms/step - accuracy: 0.9918 - loss: 0.0252\n",
      "Epoch 5/10\n",
      "1875/1875 - 6s - 3ms/step - accuracy: 0.9944 - loss: 0.0181\n",
      "Epoch 6/10\n",
      "1875/1875 - 6s - 3ms/step - accuracy: 0.9949 - loss: 0.0147\n",
      "Epoch 7/10\n",
      "1875/1875 - 6s - 3ms/step - accuracy: 0.9964 - loss: 0.0103\n",
      "Epoch 8/10\n",
      "1875/1875 - 6s - 3ms/step - accuracy: 0.9970 - loss: 0.0087\n",
      "Epoch 9/10\n",
      "1875/1875 - 6s - 3ms/step - accuracy: 0.9975 - loss: 0.0073\n",
      "Epoch 10/10\n",
      "1875/1875 - 6s - 3ms/step - accuracy: 0.9981 - loss: 0.0057\n"
     ]
    },
    {
     "data": {
      "text/plain": [
       "<keras.src.callbacks.history.History at 0x28c5c7f5480>"
      ]
     },
     "execution_count": 29,
     "metadata": {},
     "output_type": "execute_result"
    }
   ],
   "execution_count": 29
  },
  {
   "metadata": {
    "ExecuteTime": {
     "end_time": "2025-09-17T14:55:37.862624Z",
     "start_time": "2025-09-17T14:55:37.195707Z"
    }
   },
   "cell_type": "code",
   "source": [
    "# Evaluate the CNN model with one convolutional and pooling layer\n",
    "scores = CNN_model.evaluate(X_test_norm, y_test_cat, verbose=0)\n",
    "print(f\"Loss: {scores[0]}, Accuracy: {100 * scores[1]:.2f}%\")"
   ],
   "id": "d9fd08b72f880e86",
   "outputs": [
    {
     "name": "stdout",
     "output_type": "stream",
     "text": [
      "Loss: 0.046168435364961624, Accuracy: 98.91%\n"
     ]
    }
   ],
   "execution_count": 30
  },
  {
   "metadata": {
    "ExecuteTime": {
     "end_time": "2025-09-17T14:55:37.877003Z",
     "start_time": "2025-09-17T14:55:37.872546Z"
    }
   },
   "cell_type": "code",
   "source": [
    "# Let's instead define a CNN with 2 convolutional and pooling and layers.\n",
    "def convolutional_network(input_shape):\n",
    "    # Define model and input layer\n",
    "    model = Sequential()\n",
    "    model.add(Input(shape=input_shape))\n",
    "\n",
    "    # Define first convolutional and pooling layer.\n",
    "    model.add(Conv2D(16, kernel_size=(5,5), strides=(1,1), activation='relu'))\n",
    "    model.add(MaxPooling2D(pool_size=(2,2), strides=(2,2)))\n",
    "\n",
    "    # Define second convolutional and pooling layer\n",
    "    model.add(Conv2D(32, kernel_size=(5,5), strides=(1,1), activation='relu'))\n",
    "    model.add(MaxPooling2D(pool_size=(2,2), strides=(2,2)))\n",
    "\n",
    "    # Flatten the dimensions from the pooling layer\n",
    "    model.add(Flatten())\n",
    "\n",
    "    # Define the conventional portion of the CNN\n",
    "    model.add(Dense(100, activation='relu'))\n",
    "    model.add(Dense(num_classes, activation='softmax'))\n",
    "\n",
    "    # Define the optimizer, loss function, and evaluation metrics\n",
    "    model.compile(optimizer=\"adam\", loss=\"categorical_crossentropy\", metrics=[\"accuracy\"])\n",
    "\n",
    "    return model"
   ],
   "id": "ce9e0db350230992",
   "outputs": [],
   "execution_count": 31
  },
  {
   "metadata": {
    "ExecuteTime": {
     "end_time": "2025-09-17T15:05:42.013626Z",
     "start_time": "2025-09-17T15:04:43.974370Z"
    }
   },
   "cell_type": "code",
   "source": [
    "# Build and train model\n",
    "convolutional_network_model = convolutional_network(input_shape)\n",
    "convolutional_network_model.fit(X_train_norm, y_train_cat, batch_size=32, epochs=10, verbose=2, validation_split=0.2)"
   ],
   "id": "969f8422b1750c11",
   "outputs": [
    {
     "name": "stdout",
     "output_type": "stream",
     "text": [
      "Epoch 1/10\n",
      "1500/1500 - 6s - 4ms/step - accuracy: 0.9445 - loss: 0.1829 - val_accuracy: 0.9764 - val_loss: 0.0776\n",
      "Epoch 2/10\n",
      "1500/1500 - 6s - 4ms/step - accuracy: 0.9815 - loss: 0.0587 - val_accuracy: 0.9793 - val_loss: 0.0673\n",
      "Epoch 3/10\n",
      "1500/1500 - 6s - 4ms/step - accuracy: 0.9876 - loss: 0.0392 - val_accuracy: 0.9860 - val_loss: 0.0448\n",
      "Epoch 4/10\n",
      "1500/1500 - 5s - 4ms/step - accuracy: 0.9899 - loss: 0.0303 - val_accuracy: 0.9879 - val_loss: 0.0364\n",
      "Epoch 5/10\n",
      "1500/1500 - 5s - 4ms/step - accuracy: 0.9925 - loss: 0.0230 - val_accuracy: 0.9879 - val_loss: 0.0386\n",
      "Epoch 6/10\n",
      "1500/1500 - 6s - 4ms/step - accuracy: 0.9941 - loss: 0.0182 - val_accuracy: 0.9855 - val_loss: 0.0496\n",
      "Epoch 7/10\n",
      "1500/1500 - 6s - 4ms/step - accuracy: 0.9953 - loss: 0.0149 - val_accuracy: 0.9883 - val_loss: 0.0431\n",
      "Epoch 8/10\n",
      "1500/1500 - 6s - 4ms/step - accuracy: 0.9962 - loss: 0.0116 - val_accuracy: 0.9893 - val_loss: 0.0485\n",
      "Epoch 9/10\n",
      "1500/1500 - 6s - 4ms/step - accuracy: 0.9961 - loss: 0.0113 - val_accuracy: 0.9887 - val_loss: 0.0504\n",
      "Epoch 10/10\n",
      "1500/1500 - 6s - 4ms/step - accuracy: 0.9971 - loss: 0.0089 - val_accuracy: 0.9877 - val_loss: 0.0531\n"
     ]
    },
    {
     "data": {
      "text/plain": [
       "<keras.src.callbacks.history.History at 0x28c5bd26360>"
      ]
     },
     "execution_count": 39,
     "metadata": {},
     "output_type": "execute_result"
    }
   ],
   "execution_count": 39
  },
  {
   "metadata": {
    "ExecuteTime": {
     "end_time": "2025-09-17T15:05:42.827632Z",
     "start_time": "2025-09-17T15:05:42.025060Z"
    }
   },
   "cell_type": "code",
   "source": [
    "# Evaluate the CNN model with two convolutional and pooling layers\n",
    "scores = convolutional_network_model.evaluate(X_test_norm, y_test_cat, verbose=0)\n",
    "print(f\"Loss: {scores[0]:.5f}, Accuracy: {100 * scores[1]:.2f}%\")"
   ],
   "id": "7f55af7aed032259",
   "outputs": [
    {
     "name": "stdout",
     "output_type": "stream",
     "text": [
      "Loss: 0.04497, Accuracy: 99.02%\n"
     ]
    }
   ],
   "execution_count": 40
  },
  {
   "metadata": {
    "ExecuteTime": {
     "end_time": "2025-09-17T14:56:31.369766Z",
     "start_time": "2025-09-17T14:56:31.287824Z"
    }
   },
   "cell_type": "code",
   "source": [
    "# Training can take a really long time, and can be computationally expensive, so we can save our models.\n",
    "conventional_NN_model.save(\"conventional_NN_model_MNIST.keras\")\n",
    "CNN_model.save(\"CNN_model_MNIST.keras\")\n",
    "convolutional_network_model.save(\"Convolutional_network_model_MNIST.keras\")"
   ],
   "id": "53b0a6391355900c",
   "outputs": [],
   "execution_count": 34
  },
  {
   "metadata": {
    "ExecuteTime": {
     "end_time": "2025-09-17T14:56:31.636704Z",
     "start_time": "2025-09-17T14:56:31.374943Z"
    }
   },
   "cell_type": "code",
   "source": [
    "# Then, when we are ready to use the model, we can load it.\n",
    "conventional_NN_model = keras.models.load_model(\"conventional_NN_model_MNIST.keras\")\n",
    "CNN_model = keras.models.load_model(\"CNN_model_MNIST.keras\")\n",
    "convolutional_network_model = keras.models.load_model(\"Convolutional_network_model_MNIST.keras\")"
   ],
   "id": "2ac202fca5f83fbf",
   "outputs": [],
   "execution_count": 35
  },
  {
   "metadata": {
    "ExecuteTime": {
     "end_time": "2025-09-17T14:56:31.644438Z",
     "start_time": "2025-09-17T14:56:31.641264Z"
    }
   },
   "cell_type": "code",
   "source": [
    "# In this notebook I learned how to use the Keras library to build a conventional NN and a CNN architecture\n",
    "# for classification problems using the keras library, how to perform basic evaluation of a conventional\n",
    "# NN and a CNNs performance, and how and why we must one-hot-encode target class values. I also learned\n",
    "# how to save and load a model using Keras."
   ],
   "id": "7c09e65460d408f",
   "outputs": [],
   "execution_count": 36
  }
 ],
 "metadata": {
  "kernelspec": {
   "display_name": "Python 3",
   "language": "python",
   "name": "python3"
  },
  "language_info": {
   "codemirror_mode": {
    "name": "ipython",
    "version": 2
   },
   "file_extension": ".py",
   "mimetype": "text/x-python",
   "name": "python",
   "nbconvert_exporter": "python",
   "pygments_lexer": "ipython2",
   "version": "2.7.6"
  }
 },
 "nbformat": 4,
 "nbformat_minor": 5
}
