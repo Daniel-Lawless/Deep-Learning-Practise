{
 "cells": [
  {
   "cell_type": "code",
   "id": "initial_id",
   "metadata": {
    "collapsed": true,
    "ExecuteTime": {
     "end_time": "2025-09-17T13:56:55.595318Z",
     "start_time": "2025-09-17T13:56:50.750708Z"
    }
   },
   "source": [
    "import numpy as np\n",
    "import pandas as pd\n",
    "from tensorflow import keras\n",
    "from keras.models import Sequential\n",
    "from keras.layers import Dense, Input, Conv2D, MaxPooling2D, Flatten\n",
    "from keras.utils import to_categorical  # Used for converting the target values into a one-hot-encoding format.\n",
    "from keras.datasets import mnist # This data is already divided into a train and test set\n",
    "import matplotlib.pyplot as plt"
   ],
   "outputs": [],
   "execution_count": 1
  },
  {
   "metadata": {
    "ExecuteTime": {
     "end_time": "2025-09-17T13:56:55.804972Z",
     "start_time": "2025-09-17T13:56:55.604987Z"
    }
   },
   "cell_type": "code",
   "source": [
    "(X_train, y_train), (X_test, y_test) = mnist.load_data()\n",
    "X_train.shape\n",
    "# We have 60000 images, each of size 28 x 28. The reason it does not have dimension (60000, 28, 28, 3) is because the images\n",
    "# are grayscale, meaning that instead of having a red, green, blue value per pixel, each pixel has one value between 0 and 255 that represents\n",
    "# the pixels intensity, 0 being black, and 255 being white."
   ],
   "id": "fee356e5c575a7e3",
   "outputs": [
    {
     "data": {
      "text/plain": [
       "(60000, 28, 28)"
      ]
     },
     "execution_count": 2,
     "metadata": {},
     "output_type": "execute_result"
    }
   ],
   "execution_count": 2
  },
  {
   "metadata": {
    "ExecuteTime": {
     "end_time": "2025-09-17T13:56:55.947154Z",
     "start_time": "2025-09-17T13:56:55.827807Z"
    }
   },
   "cell_type": "code",
   "source": [
    "# Let's look at an example of an image\n",
    "plt.imshow(X_train[0])"
   ],
   "id": "ad385363eeb21437",
   "outputs": [
    {
     "data": {
      "text/plain": [
       "<matplotlib.image.AxesImage at 0x1bcddec6ba0>"
      ]
     },
     "execution_count": 3,
     "metadata": {},
     "output_type": "execute_result"
    },
    {
     "data": {
      "text/plain": [
       "<Figure size 640x480 with 1 Axes>"
      ],
      "image/png": "[encoded data removed]"
     },
     "metadata": {},
     "output_type": "display_data"
    }
   ],
   "execution_count": 3
  },
  {
   "metadata": {
    "ExecuteTime": {
     "end_time": "2025-09-17T13:56:56.041469Z",
     "start_time": "2025-09-17T13:56:55.980446Z"
    }
   },
   "cell_type": "code",
   "source": [
    "# For conventional NNs, we cannot input the image as is, so we have to each image into 1 dimensional vectors\n",
    "X_train_flatten = X_train.reshape(X_train.shape[0], -1).astype('float32')\n",
    "X_test_flatten = X_test.reshape(X_test.shape[0], -1).astype('float32')\n",
    "\n",
    "X_train_flatten.shape\n",
    "# Each of these values represent the pixel intensity in this one image.\n",
    "# Each row represents an image."
   ],
   "id": "9d34a9a693d60516",
   "outputs": [
    {
     "data": {
      "text/plain": [
       "(60000, 784)"
      ]
     },
     "execution_count": 4,
     "metadata": {},
     "output_type": "execute_result"
    }
   ],
   "execution_count": 4
  },
  {
   "metadata": {
    "ExecuteTime": {
     "end_time": "2025-09-17T13:56:56.082113Z",
     "start_time": "2025-09-17T13:56:56.052974Z"
    }
   },
   "cell_type": "code",
   "source": [
    "# normalize data. (Since pixel intensity is between 0 and 255, dividing by 255 will rescale the pixel values to between 0 and 1)\n",
    "X_train_flatten /= 255\n",
    "X_test_flatten /= 255\n",
    "\n",
    "# We also need to divide our y_train and y_test into categories.\n",
    "num_classes = len(np.unique(y_train))\n",
    "y_train_cat = to_categorical(y_train, num_classes=num_classes)\n",
    "y_test_cat = to_categorical(y_test, num_classes=num_classes)\n",
    "\n",
    "y_train.shape # We can see now each target has 10 values, it will have a value of 1 in the class that datapoint takes, and 0 else where."
   ],
   "id": "7ed31652be5ee009",
   "outputs": [
    {
     "data": {
      "text/plain": [
       "(60000,)"
      ]
     },
     "execution_count": 5,
     "metadata": {},
     "output_type": "execute_result"
    }
   ],
   "execution_count": 5
  },
  {
   "metadata": {
    "ExecuteTime": {
     "end_time": "2025-09-17T13:58:05.047102Z",
     "start_time": "2025-09-17T13:58:05.042993Z"
    }
   },
   "cell_type": "code",
   "source": [
    "n_cols = X_train_flatten.shape[1]\n",
    "\n",
    "# Define model architecture\n",
    "def conventional_NN_model():\n",
    "    # Define model and input layer\n",
    "    model = Sequential()\n",
    "    model.add(Input(shape=(n_cols,)))\n",
    "\n",
    "    # Define hidden layers\n",
    "    model.add(Dense((24*24), activation='relu'))\n",
    "    model.add(Dense(100, activation='relu'))\n",
    "\n",
    "    # Define output layer\n",
    "    model.add(Dense(num_classes, activation='softmax'))\n",
    "\n",
    "    # Define optimization, loss, and evaluation metric\n",
    "    model.compile(optimizer='adam', loss='categorical_crossentropy', metrics=['accuracy'])\n",
    "    return model"
   ],
   "id": "381e14befae97f2a",
   "outputs": [],
   "execution_count": 12
  },
  {
   "metadata": {
    "ExecuteTime": {
     "end_time": "2025-09-17T13:59:04.863900Z",
     "start_time": "2025-09-17T13:58:07.174722Z"
    }
   },
   "cell_type": "code",
   "source": [
    "# Build model\n",
    "conventional_NN_model = conventional_NN_model()\n",
    "\n",
    "# Train model\n",
    "conventional_NN_model.fit(X_train_flatten, y_train_cat, epochs=10, validation_split=0.1, verbose=2)"
   ],
   "id": "39245263f9923cf2",
   "outputs": [
    {
     "name": "stdout",
     "output_type": "stream",
     "text": [
      "Epoch 1/10\n",
      "1688/1688 - 6s - 4ms/step - accuracy: 0.9388 - loss: 0.2028 - val_accuracy: 0.9670 - val_loss: 0.1138\n",
      "Epoch 2/10\n",
      "1688/1688 - 6s - 3ms/step - accuracy: 0.9733 - loss: 0.0838 - val_accuracy: 0.9717 - val_loss: 0.0901\n",
      "Epoch 3/10\n",
      "1688/1688 - 6s - 4ms/step - accuracy: 0.9815 - loss: 0.0576 - val_accuracy: 0.9787 - val_loss: 0.0802\n",
      "Epoch 4/10\n",
      "1688/1688 - 6s - 4ms/step - accuracy: 0.9876 - loss: 0.0408 - val_accuracy: 0.9763 - val_loss: 0.0813\n",
      "Epoch 5/10\n",
      "1688/1688 - 6s - 3ms/step - accuracy: 0.9884 - loss: 0.0333 - val_accuracy: 0.9800 - val_loss: 0.0721\n",
      "Epoch 6/10\n",
      "1688/1688 - 5s - 3ms/step - accuracy: 0.9916 - loss: 0.0258 - val_accuracy: 0.9758 - val_loss: 0.1006\n",
      "Epoch 7/10\n",
      "1688/1688 - 5s - 3ms/step - accuracy: 0.9919 - loss: 0.0248 - val_accuracy: 0.9740 - val_loss: 0.1161\n",
      "Epoch 8/10\n",
      "1688/1688 - 5s - 3ms/step - accuracy: 0.9939 - loss: 0.0193 - val_accuracy: 0.9815 - val_loss: 0.0830\n",
      "Epoch 9/10\n",
      "1688/1688 - 5s - 3ms/step - accuracy: 0.9942 - loss: 0.0179 - val_accuracy: 0.9808 - val_loss: 0.0983\n",
      "Epoch 10/10\n",
      "1688/1688 - 6s - 3ms/step - accuracy: 0.9950 - loss: 0.0160 - val_accuracy: 0.9772 - val_loss: 0.1161\n"
     ]
    },
    {
     "data": {
      "text/plain": [
       "<keras.src.callbacks.history.History at 0x1bcdd24aad0>"
      ]
     },
     "execution_count": 13,
     "metadata": {},
     "output_type": "execute_result"
    }
   ],
   "execution_count": 13
  },
  {
   "metadata": {
    "ExecuteTime": {
     "end_time": "2025-09-17T13:59:09.485241Z",
     "start_time": "2025-09-17T13:59:09.016421Z"
    }
   },
   "cell_type": "code",
   "source": [
    "# Scores return the loss first, then whatever you specified in the metrics parameter in the model.compile() function\n",
    "# in the order you specified it. We only included accuracy, so our scores output will be an array of the loss and accuracy.\n",
    "scores = conventional_NN_model.evaluate(X_test_flatten, y_test_cat, verbose=0)\n",
    "print(f\"loss: {scores[0]}, accuracy: {100 * scores[1]:.2f}%\")"
   ],
   "id": "1a407b6c88a5192e",
   "outputs": [
    {
     "name": "stdout",
     "output_type": "stream",
     "text": [
      "loss: 0.10754163563251495, accuracy: 97.70%\n"
     ]
    }
   ],
   "execution_count": 14
  },
  {
   "metadata": {
    "ExecuteTime": {
     "end_time": "2025-09-17T13:59:10.562823Z",
     "start_time": "2025-09-17T13:59:10.479572Z"
    }
   },
   "cell_type": "code",
   "source": [
    "# Let's see how a CNN will perform.\n",
    "\n",
    "# Reshape images to be a shape a CNN expects.\n",
    "X_train = X_train.reshape(X_train.shape[0], 28, 28, 1).astype(\"float32\") # Convert to float for normalizing later and 32 bits for deeplearning framework efficiency.\n",
    "X_test = X_test.reshape(X_test.shape[0], 28, 28, 1).astype(\"float32\")\n",
    "\n",
    "# Normalize data\n",
    "X_train_norm = X_train / 255\n",
    "X_test_norm = X_test / 255\n",
    "\n",
    "print(f\"Shape of X_train: {X_train.shape}, Shape of X_test: {X_test.shape}\")"
   ],
   "id": "6db6e0d7d78aac5b",
   "outputs": [
    {
     "name": "stdout",
     "output_type": "stream",
     "text": [
      "Shape of X_train: (60000, 28, 28, 1), Shape of X_test: (10000, 28, 28, 1)\n"
     ]
    }
   ],
   "execution_count": 15
  },
  {
   "metadata": {
    "ExecuteTime": {
     "end_time": "2025-09-17T13:59:49.760045Z",
     "start_time": "2025-09-17T13:59:49.755283Z"
    }
   },
   "cell_type": "code",
   "source": [
    "# Extract input shape\n",
    "input_shape = X_train[0].shape\n",
    "\n",
    "# Extract number of classes.\n",
    "num_classes = y_train_cat.shape[1]\n",
    "\n",
    "# Define CNN architecture\n",
    "def CNN(input_shape):\n",
    "    # Define model and input layer.\n",
    "    model = Sequential()\n",
    "    model.add(Input(shape=input_shape))\n",
    "\n",
    "    # Define the convolutional and pooling layers.\n",
    "    model.add(Conv2D(16, kernel_size=(5,5), strides=(1,1), activation='relu'))\n",
    "    model.add(MaxPooling2D(pool_size=(2,2), strides=(2,2)))\n",
    "\n",
    "    # Flatten the dimensions from the pooling layer into dimensions\n",
    "    # the conventional dense layer can understand e.g., (min_batch_size, num_features)\n",
    "    model.add(Flatten())\n",
    "\n",
    "    # Define the conventional portion of the CNN\n",
    "    model.add(Dense(100, activation='relu'))\n",
    "    model.add(Dense(num_classes, activation='softmax'))\n",
    "\n",
    "    # define the loss function to optimize, the optimizer to achieve the optimization, and the evaluation metric.\n",
    "    model.compile(optimizer=\"adam\", loss=\"categorical_crossentropy\", metrics=[\"accuracy\"])\n",
    "\n",
    "    return model"
   ],
   "id": "3c855dddb5d3001a",
   "outputs": [],
   "execution_count": 19
  },
  {
   "metadata": {
    "ExecuteTime": {
     "end_time": "2025-09-17T14:01:16.912794Z",
     "start_time": "2025-09-17T14:00:19.385702Z"
    }
   },
   "cell_type": "code",
   "source": [
    "# Build model\n",
    "CNN_model = CNN(input_shape)\n",
    "\n",
    "# Train model\n",
    "CNN_model.fit(X_train_norm, y_train_cat, batch_size=32, epochs=10, verbose=2)"
   ],
   "id": "c17f42d21801d018",
   "outputs": [
    {
     "name": "stdout",
     "output_type": "stream",
     "text": [
      "Epoch 1/10\n",
      "1875/1875 - 6s - 3ms/step - accuracy: 0.9551 - loss: 0.1518\n",
      "Epoch 2/10\n",
      "1875/1875 - 6s - 3ms/step - accuracy: 0.9837 - loss: 0.0538\n",
      "Epoch 3/10\n",
      "1875/1875 - 6s - 3ms/step - accuracy: 0.9882 - loss: 0.0365\n",
      "Epoch 4/10\n",
      "1875/1875 - 6s - 3ms/step - accuracy: 0.9913 - loss: 0.0267\n",
      "Epoch 5/10\n",
      "1875/1875 - 6s - 3ms/step - accuracy: 0.9936 - loss: 0.0192\n",
      "Epoch 6/10\n",
      "1875/1875 - 5s - 3ms/step - accuracy: 0.9954 - loss: 0.0146\n",
      "Epoch 7/10\n",
      "1875/1875 - 5s - 3ms/step - accuracy: 0.9964 - loss: 0.0112\n",
      "Epoch 8/10\n",
      "1875/1875 - 6s - 3ms/step - accuracy: 0.9973 - loss: 0.0086\n",
      "Epoch 9/10\n",
      "1875/1875 - 6s - 3ms/step - accuracy: 0.9971 - loss: 0.0089\n",
      "Epoch 10/10\n",
      "1875/1875 - 6s - 3ms/step - accuracy: 0.9979 - loss: 0.0063\n"
     ]
    },
    {
     "data": {
      "text/plain": [
       "<keras.src.callbacks.history.History at 0x1bcdd719a30>"
      ]
     },
     "execution_count": 21,
     "metadata": {},
     "output_type": "execute_result"
    }
   ],
   "execution_count": 21
  },
  {
   "metadata": {
    "ExecuteTime": {
     "end_time": "2025-09-17T14:04:33.447145Z",
     "start_time": "2025-09-17T14:04:32.664453Z"
    }
   },
   "cell_type": "code",
   "source": [
    "# Evaluate the CNN model with one convolutional and pooling layer\n",
    "scores = CNN_model.evaluate(X_test_norm, y_test_cat, verbose=0)\n",
    "print(f\"Loss: {scores[0]}, Accuracy: {100 * scores[1]:.2f}%\")"
   ],
   "id": "d9fd08b72f880e86",
   "outputs": [
    {
     "name": "stdout",
     "output_type": "stream",
     "text": [
      "Loss: 0.043527811765670776, Accuracy: 98.85%\n"
     ]
    }
   ],
   "execution_count": 23
  },
  {
   "metadata": {
    "ExecuteTime": {
     "end_time": "2025-09-17T14:10:20.449221Z",
     "start_time": "2025-09-17T14:10:20.444513Z"
    }
   },
   "cell_type": "code",
   "source": [
    "# Let's instead define a CNN with 2 convolutional and pooling and layers.\n",
    "def convolutional_network(input_shape):\n",
    "    # Define model and input layer\n",
    "    model = Sequential()\n",
    "    model.add(Input(shape=input_shape))\n",
    "\n",
    "    # Define first convolutional and pooling layer.\n",
    "    model.add(Conv2D(16, kernel_size=(5,5), strides=(1,1), activation='relu'))\n",
    "    model.add(MaxPooling2D(pool_size=(2,2), strides=(2,2)))\n",
    "\n",
    "    # Define second convolutional and pooling layer\n",
    "    model.add(Conv2D(32, kernel_size=(5,5), strides=(1,1), activation='relu'))\n",
    "    model.add(MaxPooling2D(pool_size=(2,2), strides=(2,2)))\n",
    "\n",
    "    # Flatten the dimensions from the pooling layer\n",
    "    model.add(Flatten())\n",
    "\n",
    "    # Define the conventional portion of the CNN\n",
    "    model.add(Dense(100, activation='relu'))\n",
    "    model.add(Dense(num_classes, activation='softmax'))\n",
    "\n",
    "    # Define the optimizer, loss function, and evaluation metrics\n",
    "    model.compile(optimizer=\"adam\", loss=\"categorical_crossentropy\", metrics=[\"accuracy\"])\n",
    "\n",
    "    return model"
   ],
   "id": "ce9e0db350230992",
   "outputs": [],
   "execution_count": 33
  },
  {
   "metadata": {
    "ExecuteTime": {
     "end_time": "2025-09-17T14:12:15.396549Z",
     "start_time": "2025-09-17T14:11:21.737320Z"
    }
   },
   "cell_type": "code",
   "source": [
    "# Build and train model\n",
    "convolutional_network_model = convolutional_network(input_shape)\n",
    "convolutional_network_model.fit(X_train_norm, y_train_cat, batch_size=32, epochs=10, verbose=2, validation_split=0.2)"
   ],
   "id": "969f8422b1750c11",
   "outputs": [
    {
     "name": "stdout",
     "output_type": "stream",
     "text": [
      "Epoch 1/10\n",
      "1500/1500 - 6s - 4ms/step - accuracy: 0.9478 - loss: 0.1711 - val_accuracy: 0.9809 - val_loss: 0.0650\n",
      "Epoch 2/10\n",
      "1500/1500 - 5s - 3ms/step - accuracy: 0.9826 - loss: 0.0532 - val_accuracy: 0.9860 - val_loss: 0.0485\n",
      "Epoch 3/10\n",
      "1500/1500 - 5s - 4ms/step - accuracy: 0.9880 - loss: 0.0379 - val_accuracy: 0.9862 - val_loss: 0.0458\n",
      "Epoch 4/10\n",
      "1500/1500 - 5s - 4ms/step - accuracy: 0.9913 - loss: 0.0280 - val_accuracy: 0.9877 - val_loss: 0.0429\n",
      "Epoch 5/10\n",
      "1500/1500 - 5s - 3ms/step - accuracy: 0.9930 - loss: 0.0215 - val_accuracy: 0.9887 - val_loss: 0.0411\n",
      "Epoch 6/10\n",
      "1500/1500 - 5s - 4ms/step - accuracy: 0.9942 - loss: 0.0179 - val_accuracy: 0.9896 - val_loss: 0.0395\n",
      "Epoch 7/10\n",
      "1500/1500 - 5s - 3ms/step - accuracy: 0.9951 - loss: 0.0149 - val_accuracy: 0.9894 - val_loss: 0.0354\n",
      "Epoch 8/10\n",
      "1500/1500 - 5s - 3ms/step - accuracy: 0.9960 - loss: 0.0122 - val_accuracy: 0.9906 - val_loss: 0.0376\n",
      "Epoch 9/10\n",
      "1500/1500 - 5s - 3ms/step - accuracy: 0.9965 - loss: 0.0099 - val_accuracy: 0.9883 - val_loss: 0.0509\n",
      "Epoch 10/10\n",
      "1500/1500 - 5s - 3ms/step - accuracy: 0.9974 - loss: 0.0082 - val_accuracy: 0.9893 - val_loss: 0.0476\n"
     ]
    },
    {
     "data": {
      "text/plain": [
       "<keras.src.callbacks.history.History at 0x1bcf0690c50>"
      ]
     },
     "execution_count": 36,
     "metadata": {},
     "output_type": "execute_result"
    }
   ],
   "execution_count": 36
  },
  {
   "metadata": {
    "ExecuteTime": {
     "end_time": "2025-09-17T14:12:16.121950Z",
     "start_time": "2025-09-17T14:12:15.402448Z"
    }
   },
   "cell_type": "code",
   "source": [
    "# Evaluate the CNN model with two convolutional and pooling layers\n",
    "scores = convolutional_network_model.evaluate(X_test_norm, y_test_cat, verbose=0)\n",
    "print(f\"Loss: {scores[0]:.5f}, Accuracy: {100 * scores[1]:.2f}%\")"
   ],
   "id": "7f55af7aed032259",
   "outputs": [
    {
     "name": "stdout",
     "output_type": "stream",
     "text": [
      "Loss: 0.03896, Accuracy: 99.02%\n"
     ]
    }
   ],
   "execution_count": 37
  },
  {
   "metadata": {
    "ExecuteTime": {
     "end_time": "2025-09-17T14:20:38.368659Z",
     "start_time": "2025-09-17T14:20:38.280797Z"
    }
   },
   "cell_type": "code",
   "source": [
    "# Training can take a really long time, and can be computationally expensive, so we can save our models.\n",
    "conventional_NN_model.save(\"conventional_NN_model_MNIST.keras\")\n",
    "CNN_model.save(\"CNN_model_MNIST.keras\")\n",
    "convolutional_network_model.save(\"Convolutional_network_model_MNIST.keras\")"
   ],
   "id": "53b0a6391355900c",
   "outputs": [],
   "execution_count": 40
  },
  {
   "metadata": {
    "ExecuteTime": {
     "end_time": "2025-09-17T14:20:44.046059Z",
     "start_time": "2025-09-17T14:20:43.776651Z"
    }
   },
   "cell_type": "code",
   "source": [
    "# Then, when we are ready to use the model, we can load it.\n",
    "conventional_NN_model = keras.models.load_model(\"conventional_NN_model_MNIST.keras\")\n",
    "CNN_model = keras.models.load_model(\"CNN_model_MNIST.keras\")\n",
    "convolutional_network_model = keras.models.load_model(\"Convolutional_network_model_MNIST.keras\")"
   ],
   "id": "2ac202fca5f83fbf",
   "outputs": [],
   "execution_count": 41
  },
  {
   "metadata": {
    "ExecuteTime": {
     "end_time": "2025-09-17T14:20:45.145308Z",
     "start_time": "2025-09-17T14:20:45.142377Z"
    }
   },
   "cell_type": "code",
   "source": [
    "# In this notebook I learned how to use the Keras library to build a conventional NN and a CNN architecture for classification problems using\n",
    "# the keras library, how to perform basic evaluation of a conventional NN and a CNNs performance, and how and why we must one-hot-encode target\n",
    "# class values. I also learned how to save and load a model using Keras."
   ],
   "id": "7c09e65460d408f",
   "outputs": [],
   "execution_count": 42
  }
 ],
 "metadata": {
  "kernelspec": {
   "display_name": "Python 3",
   "language": "python",
   "name": "python3"
  },
  "language_info": {
   "codemirror_mode": {
    "name": "ipython",
    "version": 2
   },
   "file_extension": ".py",
   "mimetype": "text/x-python",
   "name": "python",
   "nbconvert_exporter": "python",
   "pygments_lexer": "ipython2",
   "version": "2.7.6"
  }
 },
 "nbformat": 4,
 "nbformat_minor": 5
}
